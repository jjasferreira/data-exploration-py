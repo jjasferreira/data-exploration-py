{
 "cells": [
  {
   "cell_type": "code",
   "execution_count": null,
   "metadata": {},
   "outputs": [],
   "source": []
  }
 ],
 "metadata": {
  "kernelspec": {
   "display_name": "Python 3.10.5 64-bit",
   "language": "python",
   "name": "python3"
  },
  "language_info": {
   "name": "python",
   "version": "3.10.5"
  },
  "orig_nbformat": 4,
  "vscode": {
   "interpreter": {
    "hash": "5419925668f7e5717337268d61af9f357d0056b2bae6b6c05252d039a5cf0602"
   }
  }
 },
 "nbformat": 4,
 "nbformat_minor": 2
}
