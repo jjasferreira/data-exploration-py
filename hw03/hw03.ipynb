{
 "cells": [
  {
   "cell_type": "markdown",
   "metadata": {},
   "source": [
    "### Programming and critical analysis"
   ]
  },
  {
   "cell_type": "markdown",
   "metadata": {},
   "source": [
    "Consider the following three regressors applied on `kin8nm.arff` data:\n",
    "− linear regression with Ridge regularization term of 0.1\n",
    "− two MLPs – MLP1 and MLP2 – each with two hidden layers of size 10, hyperbolic tangent\n",
    "function as the activation function of all nodes, a maximum of 500 iterations, and a fixed\n",
    "seed (`random_state=0`). MLP1 should be parameterized with early stopping while MLP2\n",
    "should not consider early stopping. Remaining parameters (e.g., loss function, batch size,\n",
    "regularization term, solver) should be set as default."
   ]
  },
  {
   "cell_type": "markdown",
   "metadata": {},
   "source": [
    "Using a 70-30 training-test split with a fixed seed (`random_state=0`), compute the MAE of the three regressors: linear regression, MLP1 and MLP2."
   ]
  },
  {
   "cell_type": "code",
   "execution_count": null,
   "metadata": {},
   "outputs": [],
   "source": [
    "# code 1"
   ]
  },
  {
   "cell_type": "markdown",
   "metadata": {},
   "source": [
    "Plot the residues (in absolute value) using two visualizations: boxplots and histograms.\n",
    "Hint: consider using boxplot and hist functions from matplotlib.pyplot to this end."
   ]
  },
  {
   "cell_type": "code",
   "execution_count": null,
   "metadata": {},
   "outputs": [],
   "source": [
    "# code 2"
   ]
  }
 ],
 "metadata": {
  "kernelspec": {
   "display_name": "Python 3.10.5 64-bit",
   "language": "python",
   "name": "python3"
  },
  "language_info": {
   "codemirror_mode": {
    "name": "ipython",
    "version": 3
   },
   "file_extension": ".py",
   "mimetype": "text/x-python",
   "name": "python",
   "nbconvert_exporter": "python",
   "pygments_lexer": "ipython3",
   "version": "3.10.5"
  },
  "orig_nbformat": 4,
  "vscode": {
   "interpreter": {
    "hash": "5419925668f7e5717337268d61af9f357d0056b2bae6b6c05252d039a5cf0602"
   }
  }
 },
 "nbformat": 4,
 "nbformat_minor": 2
}
