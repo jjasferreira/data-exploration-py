{
 "cells": [
  {
   "cell_type": "markdown",
   "metadata": {},
   "source": [
    "### Programming and critical analysis"
   ]
  },
  {
   "cell_type": "markdown",
   "metadata": {},
   "source": [
    "Recall the `pd_speech.arff` dataset from earlier homeworks, centered on the Parkinson diagnosis from \n",
    "speech features. For the following exercises, normalize the data using `sklearn`’s `MinMaxScaler`.\n",
    "\n",
    "1. Using `sklearn`, apply k-means clustering fully unsupervisedly (without targets) on the \n",
    "normalized data with 𝑘 = 3 and three different seeds (using random ε {0,1,2}). Assess the \n",
    "silhouette and purity of the produced solutions.\n",
    "\n",
    "3. Using a scatter plot, visualize side-by-side the labeled data using as labels: i) the original \n",
    "Parkinson diagnoses, and ii) the previously learned 𝑘=3 clusters (random=0). To this end, select \n",
    "the two most informative features as axes and color observations according to their label. For feature \n",
    "selection, select the two input variables with highest variance on the MinMax normalized data.\n",
    "\n",
    "4. The fraction of variance explained by a principal component is the ratio between the \n",
    "variance of that component (i.e., its eigenvalue) and total variance (i.e., sum of all eigenvalues). \n",
    "How many principal components are necessary to explain more than 80% of variability? \n",
    "Hint: explore the DimReduction notebook to be familiar with PCA in `sklearn`.\n",
    "\n",
    "### Dúvidas:\n",
    "1. Como implementar medida de pureza\n",
    "2. Porque é que está a dar o mesmo valor para random_states diferentes"
   ]
  },
  {
   "cell_type": "code",
   "execution_count": 9,
   "metadata": {},
   "outputs": [
    {
     "name": "stdout",
     "output_type": "stream",
     "text": [
      "0\n",
      "[0 0 0 0 0 0 0 0 0 1 1 1 1 1 1 0 0 0 0 0 0 0 0 0 0 0 0 0 0 0 0 0 0 1 0 0 0\n",
      " 0 0 0 0 0 1 1 1 0 0 0 1 1 1 1 1 1 0 0 0 0 0 0 0 0 0 0 0 0 1 1 1 0 0 0 0 0\n",
      " 0 0 0 0 0 0 0 1 1 1 1 1 1 1 1 1 0 1 1 0 0 0 0 0 0 0 0 0 1 1 1 1 1 1 0 0 0\n",
      " 0 0 0 0 0 0 0 0 0 0 0 0 2 2 2 0 0 0 0 0 0 0 0 0 0 0 0 0 0 0 0 0 0 2 2 2 1\n",
      " 1 1 0 0 0 0 0 0 0 0 0 0 0 0 0 0 0 0 0 0 0 0 0 0 0 0 0 0 0 1 1 1 1 1 1 0 0\n",
      " 0 0 0 0 0 0 0 0 0 0 0 0 0 0 0 0 0 1 0 1 1 1 1 1 1 2 2 2 1 0 0 0 0 0 0 0 0\n",
      " 0 0 0 0 0 0 1 1 1 0 1 1 0 0 0 0 0 0 1 1 1 0 0 0 1 1 1 1 1 1 1 1 1 0 0 0 0\n",
      " 0 0 0 0 0 0 0 0 1 1 1 0 0 0 0 0 0 0 0 0 1 0 0 0 0 0 0 0 0 0 0 0 0 0 0 0 0\n",
      " 0 0 0 1 0 0 0 0 0 0 0 0 0 1 1 1 1 0 0 0 0 0 0 0 0 0 0 0 2 2 2 1 1 1 0 0 0\n",
      " 0 0 0 0 0 0 0 0 0 0 0 0 0 0 0 0 0 0 0 0 0 1 1 1 1 1 1 1 1 1 0 0 0 1 1 1 1\n",
      " 1 1 0 0 0 1 1 1 0 0 0 0 0 0 0 0 0 0 0 0 0 0 0 0 0 1 1 1 1 1 1 1 0 0 0 1 1\n",
      " 1 1 1 1 0 0 0 0 0 0 0 0 0 0 0 0 0 0 0 1 2 2 0 0 0 1 1 1 0 0 0 0 0 0 2 2 2\n",
      " 0 0 0 2 2 2 0 0 0 0 0 0 0 0 0 0 0 0 0 0 0 0 0 0 2 1 0 0 0 0 0 0 0 0 0 0 0\n",
      " 0 0 0 0 0 1 1 1 0 0 0 0 0 0 0 0 0 0 0 0 0 0 0 1 1 0 0 0 0 0 0 0 0 0 0 1 1\n",
      " 1 0 0 0 0 0 0 1 1 1 1 1 1 0 0 0 2 2 2 0 0 0 1 1 1 1 1 0 0 0 0 0 0 0 1 1 1\n",
      " 0 0 0 0 0 0 1 1 1 1 1 1 1 1 1 1 0 0 0 0 0 1 1 1 0 0 0 1 1 1 0 0 0 1 1 1 0\n",
      " 0 1 0 0 0 0 0 0 1 1 1 1 1 1 0 0 0 1 1 1 0 0 0 1 1 1 1 1 1 0 0 0 1 1 0 0 0\n",
      " 0 0 0 0 0 0 1 0 0 0 1 1 1 0 0 0 0 0 0 0 0 0 1 1 1 0 0 0 1 1 1 0 0 0 1 1 1\n",
      " 1 1 1 0 0 0 1 1 1 0 0 0 1 1 1 0 0 0 0 0 0 0 1 0 1 1 1 0 0 0 1 1 1 1 1 1 0\n",
      " 0 1 1 1 1 0 0 0 1 1 1 1 1 1 0 0 0 0 1 0 2 2 1 0 0 0 0 0 0 1 0 1 0 0 0 0 0\n",
      " 0 0 0 0 1 1 1 0 0 0 1 1 1 1 0 0]\n",
      "Silhouette score for iteration 0 is 0.6061811635543624\n",
      "1\n",
      "[1 1 1 1 1 1 1 1 1 0 0 0 0 0 0 1 1 1 1 1 1 1 1 1 1 1 1 1 1 1 1 1 1 0 1 1 1\n",
      " 1 1 1 1 1 0 0 0 1 1 1 0 0 0 0 0 0 1 1 1 1 1 1 1 1 1 1 1 1 0 0 0 1 1 1 1 1\n",
      " 1 1 1 1 1 1 1 0 0 0 0 0 0 0 0 0 1 0 0 1 1 1 1 1 1 1 1 1 0 0 0 0 0 0 1 1 1\n",
      " 1 1 1 1 1 1 1 1 1 1 1 1 2 2 2 1 1 1 1 1 1 1 1 1 1 1 1 1 1 1 1 1 1 2 2 2 0\n",
      " 0 0 1 1 1 1 1 1 1 1 1 1 1 1 1 1 1 1 1 1 1 1 1 1 1 1 1 1 1 0 0 0 0 0 0 1 1\n",
      " 1 1 1 1 1 1 1 1 1 1 1 1 1 1 1 1 1 0 1 0 0 0 0 0 0 2 2 2 0 1 1 1 1 1 1 1 1\n",
      " 1 1 1 1 1 1 0 0 0 1 0 0 1 1 1 1 1 1 0 0 0 1 1 1 0 0 0 0 0 0 0 0 0 1 1 1 1\n",
      " 1 1 1 1 1 1 1 1 0 0 0 1 1 1 1 1 1 1 1 1 0 1 1 1 1 1 1 1 1 1 1 1 1 1 1 1 1\n",
      " 1 1 1 0 1 1 1 1 1 1 1 1 1 0 0 0 0 1 1 1 1 1 1 1 1 1 1 1 2 2 2 0 0 0 1 1 1\n",
      " 1 1 1 1 1 1 1 1 1 1 1 1 1 1 1 1 1 1 1 1 1 0 0 0 0 0 0 0 0 0 1 1 1 0 0 0 0\n",
      " 0 0 1 1 1 0 0 0 1 1 1 1 1 1 1 1 1 1 1 1 1 1 1 1 1 0 0 0 0 0 0 0 1 1 1 0 0\n",
      " 0 0 0 0 1 1 1 1 1 1 1 1 1 1 1 1 1 1 1 0 2 2 1 1 1 0 0 0 1 1 1 1 1 1 2 2 2\n",
      " 1 1 1 2 2 2 1 1 1 1 1 1 1 1 1 1 1 1 1 1 1 1 1 1 2 0 1 1 1 1 1 1 1 1 1 1 1\n",
      " 1 1 1 1 1 0 0 0 1 1 1 1 1 1 1 1 1 1 1 1 1 1 1 0 0 1 1 1 1 1 1 1 1 1 1 0 0\n",
      " 0 1 1 1 1 1 1 0 0 0 0 0 0 1 1 1 2 2 2 1 1 1 0 0 0 0 0 1 1 1 1 1 1 1 0 0 0\n",
      " 1 1 1 1 1 1 0 0 0 0 0 0 0 0 0 0 1 1 1 1 1 0 0 0 1 1 1 0 0 0 1 1 1 0 0 0 1\n",
      " 1 0 1 1 1 1 1 1 0 0 0 0 0 0 1 1 1 0 0 0 1 1 1 0 0 0 0 0 0 1 1 1 0 0 1 1 1\n",
      " 1 1 1 1 1 1 0 1 1 1 0 0 0 1 1 1 1 1 1 1 1 1 0 0 0 1 1 1 0 0 0 1 1 1 0 0 0\n",
      " 0 0 0 1 1 1 0 0 0 1 1 1 0 0 0 1 1 1 1 1 1 1 0 1 0 0 0 1 1 1 0 0 0 0 0 0 1\n",
      " 1 0 0 0 0 1 1 1 0 0 0 0 0 0 1 1 1 1 0 1 2 2 0 1 1 1 1 1 1 0 1 0 1 1 1 1 1\n",
      " 1 1 1 1 0 0 0 1 1 1 0 0 0 0 1 1]\n",
      "Silhouette score for iteration 1 is 0.6061811635543624\n",
      "2\n",
      "[2 2 2 2 2 2 2 2 2 1 1 1 1 1 1 2 2 2 2 2 2 2 2 2 2 2 2 2 2 2 2 2 2 1 2 2 2\n",
      " 2 2 2 2 2 1 1 1 2 2 2 1 1 1 1 1 1 2 2 2 2 2 2 2 2 2 2 2 2 1 1 1 2 2 2 2 2\n",
      " 2 2 2 2 2 2 2 1 1 1 1 1 1 1 1 1 2 1 1 2 2 2 2 2 2 2 2 2 1 1 1 1 1 1 2 2 2\n",
      " 2 2 2 2 2 2 2 2 2 2 2 2 0 0 0 2 2 2 2 2 2 2 2 2 2 2 2 2 2 2 2 2 2 0 0 0 1\n",
      " 1 1 2 2 2 2 2 2 2 2 2 2 2 2 2 2 2 2 2 2 2 2 2 2 2 2 2 2 2 1 1 1 1 1 1 2 2\n",
      " 2 2 2 2 2 2 2 2 2 2 2 2 2 2 2 2 2 1 2 1 1 1 1 1 1 0 0 0 1 2 2 2 2 2 2 2 2\n",
      " 2 2 2 2 2 2 1 1 1 2 1 1 2 2 2 2 2 2 1 1 1 2 2 2 1 1 1 1 1 1 1 1 1 2 2 2 2\n",
      " 2 2 2 2 2 2 2 2 1 1 1 2 2 2 2 2 2 2 2 2 1 2 2 2 2 2 2 2 2 2 2 2 2 2 2 2 2\n",
      " 2 2 2 1 2 2 2 2 2 2 2 2 2 1 1 1 1 2 2 2 2 2 2 2 2 2 2 2 0 0 0 1 1 1 2 2 2\n",
      " 2 2 2 2 2 2 2 2 2 2 2 2 2 2 2 2 2 2 2 2 2 1 1 1 1 1 1 1 1 1 2 2 2 1 1 1 1\n",
      " 1 1 2 2 2 1 1 1 2 2 2 2 2 2 2 2 2 2 2 2 2 2 2 2 2 1 1 1 1 1 1 1 2 2 2 1 1\n",
      " 1 1 1 1 2 2 2 2 2 2 2 2 2 2 2 2 2 2 2 1 0 0 2 2 2 1 1 1 2 2 2 2 2 2 0 0 0\n",
      " 2 2 2 0 0 0 2 2 2 2 2 2 2 2 2 2 2 2 2 2 2 2 2 2 0 1 2 2 2 2 2 2 2 2 2 2 2\n",
      " 2 2 2 2 2 1 1 1 2 2 2 2 2 2 2 2 2 2 2 2 2 2 2 1 1 2 2 2 2 2 2 2 2 2 2 1 1\n",
      " 1 2 2 2 2 2 2 1 1 1 1 1 1 2 2 2 0 0 0 2 2 2 1 1 1 1 1 2 2 2 2 2 2 2 1 1 1\n",
      " 2 2 2 2 2 2 1 1 1 1 1 1 1 1 1 1 2 2 2 2 2 1 1 1 2 2 2 1 1 1 2 2 2 1 1 1 2\n",
      " 2 1 2 2 2 2 2 2 1 1 1 1 1 1 2 2 2 1 1 1 2 2 2 1 1 1 1 1 1 2 2 2 1 1 2 2 2\n",
      " 2 2 2 2 2 2 1 2 2 2 1 1 1 2 2 2 2 2 2 2 2 2 1 1 1 2 2 2 1 1 1 2 2 2 1 1 1\n",
      " 1 1 1 2 2 2 1 1 1 2 2 2 1 1 1 2 2 2 2 2 2 2 1 2 1 1 1 2 2 2 1 1 1 1 1 1 2\n",
      " 2 1 1 1 1 2 2 2 1 1 1 1 1 1 2 2 2 2 1 2 0 0 1 2 2 2 2 2 2 1 2 1 2 2 2 2 2\n",
      " 2 2 2 2 1 1 1 2 2 2 1 1 1 1 2 2]\n",
      "Silhouette score for iteration 2 is 0.6061811635543624\n"
     ]
    }
   ],
   "source": [
    "import pandas as pd\n",
    "import numpy as np\n",
    "from scipy.io.arff import loadarff\n",
    "from sklearn.preprocessing import MinMaxScaler\n",
    "from sklearn.metrics import silhouette_score\n",
    "from sklearn.cluster import KMeans\n",
    "\n",
    "\n",
    "# Read the ARFF file and separate input from output data, to encode as numeric\n",
    "data = loadarff('pd_speech.arff')\n",
    "df = pd.DataFrame(data[0])\n",
    "X = df.drop('class', axis=1)\n",
    "scaler = MinMaxScaler()\n",
    "scaler.fit_transform(X)\n",
    "# kmeans = KMeans(n_clusters=3, random_state=0).fit(X)\n",
    "\n",
    "\n",
    "for i in range(0,3):\n",
    "    # Create the classifier\n",
    "    print(i)\n",
    "    kmeans = KMeans(n_clusters=3, init=\"random\", random_state=i)\n",
    "    # Fit the classifier to the data\n",
    "    kmeans.fit(X)\n",
    "    print(kmeans.labels_)\n",
    "    # Determine the sillhouette score\n",
    "    sil_score = silhouette_score(X, kmeans.labels_)\n",
    "    # Determine the purity score\n",
    "    print(\"Silhouette score for iteration\", i, \"is\", sil_score)\n"
   ]
  }
 ],
 "metadata": {
  "kernelspec": {
   "display_name": "Python 3.10.4 64-bit",
   "language": "python",
   "name": "python3"
  },
  "language_info": {
   "codemirror_mode": {
    "name": "ipython",
    "version": 3
   },
   "file_extension": ".py",
   "mimetype": "text/x-python",
   "name": "python",
   "nbconvert_exporter": "python",
   "pygments_lexer": "ipython3",
   "version": "3.10.4"
  },
  "orig_nbformat": 4,
  "vscode": {
   "interpreter": {
    "hash": "a8643daa8e113db449b3154f3598755a964a6d8d071e0fcc1350eddf1d1d961d"
   }
  }
 },
 "nbformat": 4,
 "nbformat_minor": 2
}
